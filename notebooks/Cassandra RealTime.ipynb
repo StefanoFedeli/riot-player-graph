{
 "cells": [
  {
   "cell_type": "code",
   "execution_count": 6,
   "metadata": {},
   "outputs": [
    {
     "name": "stdout",
     "output_type": "stream",
     "text": [
      "Row(champion='6', count=2)\n",
      "Row(champion='120', count=1)\n",
      "Row(champion='154', count=1)\n",
      "Row(champion='777', count=2)\n",
      "Row(champion='360', count=5)\n",
      "Row(champion='106', count=1)\n",
      "Row(champion='53', count=1)\n",
      "Row(champion='-1', count=1)\n",
      "Row(champion='350', count=1)\n",
      "Row(champion='238', count=1)\n",
      "Row(champion='82', count=2)\n",
      "Row(champion='121', count=2)\n",
      "Row(champion='157', count=2)\n",
      "Row(champion='516', count=1)\n",
      "Row(champion='25', count=3)\n",
      "Row(champion='28', count=1)\n",
      "Row(champion='876', count=1)\n",
      "Row(champion='51', count=1)\n",
      "Row(champion='84', count=1)\n",
      "Row(champion='122', count=3)\n",
      "Row(champion='38', count=2)\n",
      "Row(champion='412', count=2)\n",
      "Row(champion='245', count=1)\n",
      "Row(champion='80', count=1)\n",
      "Row(champion='11', count=1)\n"
     ]
    }
   ],
   "source": [
    "import panda as pd\n",
    "from cassandra.cluster import Cluster\n",
    "\n",
    "cluster = Cluster()\n",
    "session = cluster.connect('riot')\n",
    "\n",
    "rows = session.execute('SELECT * FROM champ')\n",
    "for champ in rows:\n",
    "    if champ.champion != -1:\n",
    "        pan\n"
   ]
  },
  {
   "cell_type": "code",
   "execution_count": null,
   "metadata": {},
   "outputs": [],
   "source": []
  }
 ],
 "metadata": {
  "kernelspec": {
   "display_name": "Python 3",
   "language": "python",
   "name": "python3"
  },
  "language_info": {
   "codemirror_mode": {
    "name": "ipython",
    "version": 3
   },
   "file_extension": ".py",
   "mimetype": "text/x-python",
   "name": "python",
   "nbconvert_exporter": "python",
   "pygments_lexer": "ipython3",
   "version": "3.6.9"
  }
 },
 "nbformat": 4,
 "nbformat_minor": 4
}
